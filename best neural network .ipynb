{
  "cells": [
    {
      "cell_type": "markdown",
      "metadata": {
        "id": "-Q7FpMZ_-0py"
      },
      "source": [
        "Preprocessing"
      ]
    },
    {
      "cell_type": "code",
      "execution_count": 2,
      "metadata": {
        "colab": {
          "base_uri": "https://localhost:8080/"
        },
        "id": "tYdS2EU1-26j",
        "outputId": "fe64ed51-f4ef-4a30-e3d8-c36be794d2b1"
      },
      "outputs": [
        {
          "output_type": "stream",
          "name": "stdout",
          "text": [
            "Collecting num2words\n",
            "  Downloading num2words-0.5.13-py3-none-any.whl (143 kB)\n",
            "\u001b[?25l     \u001b[90m━━━━━━━━━━━━━━━━━━━━━━━━━━━━━━━━━━━━━━━━\u001b[0m \u001b[32m0.0/143.3 kB\u001b[0m \u001b[31m?\u001b[0m eta \u001b[36m-:--:--\u001b[0m\r\u001b[2K     \u001b[91m━━━━━━━━━━━━━━━━━━━━━━━━━━━━━━━━━━━━━\u001b[0m\u001b[90m╺\u001b[0m\u001b[90m━━\u001b[0m \u001b[32m133.1/143.3 kB\u001b[0m \u001b[31m4.5 MB/s\u001b[0m eta \u001b[36m0:00:01\u001b[0m\r\u001b[2K     \u001b[90m━━━━━━━━━━━━━━━━━━━━━━━━━━━━━━━━━━━━━━━━\u001b[0m \u001b[32m143.3/143.3 kB\u001b[0m \u001b[31m3.7 MB/s\u001b[0m eta \u001b[36m0:00:00\u001b[0m\n",
            "\u001b[?25hCollecting docopt>=0.6.2 (from num2words)\n",
            "  Downloading docopt-0.6.2.tar.gz (25 kB)\n",
            "  Preparing metadata (setup.py) ... \u001b[?25l\u001b[?25hdone\n",
            "Building wheels for collected packages: docopt\n",
            "  Building wheel for docopt (setup.py) ... \u001b[?25l\u001b[?25hdone\n",
            "  Created wheel for docopt: filename=docopt-0.6.2-py2.py3-none-any.whl size=13706 sha256=a4c6cfe9bb3f53dc4d641486507d2c3d4b316daf3b5995704d5e8377872dd693\n",
            "  Stored in directory: /root/.cache/pip/wheels/fc/ab/d4/5da2067ac95b36618c629a5f93f809425700506f72c9732fac\n",
            "Successfully built docopt\n",
            "Installing collected packages: docopt, num2words\n",
            "Successfully installed docopt-0.6.2 num2words-0.5.13\n"
          ]
        },
        {
          "output_type": "stream",
          "name": "stderr",
          "text": [
            "[nltk_data] Downloading package stopwords to /root/nltk_data...\n",
            "[nltk_data]   Unzipping corpora/stopwords.zip.\n",
            "[nltk_data] Downloading package wordnet to /root/nltk_data...\n",
            "[nltk_data] Downloading package punkt to /root/nltk_data...\n",
            "[nltk_data]   Unzipping tokenizers/punkt.zip.\n",
            "[nltk_data] Downloading package averaged_perceptron_tagger to\n",
            "[nltk_data]     /root/nltk_data...\n",
            "[nltk_data]   Unzipping taggers/averaged_perceptron_tagger.zip.\n",
            "/usr/local/lib/python3.10/dist-packages/sklearn/feature_extraction/text.py:544: UserWarning: The parameter 'ngram_range' will not be used since 'analyzer' is callable'\n",
            "  warnings.warn(\n"
          ]
        }
      ],
      "source": [
        "!pip install num2words\n",
        "import pandas as pd\n",
        "import re\n",
        "import nltk\n",
        "from nltk.corpus import stopwords\n",
        "from nltk.stem import WordNetLemmatizer\n",
        "from nltk.tokenize import word_tokenize\n",
        "from nltk.corpus import wordnet\n",
        "from nltk import pos_tag\n",
        "from sklearn.feature_extraction.text import TfidfVectorizer\n",
        "from num2words import num2words\n",
        "\n",
        "nltk.download('stopwords')\n",
        "nltk.download('wordnet')\n",
        "nltk.download('punkt')\n",
        "nltk.download('averaged_perceptron_tagger')\n",
        "\n",
        "def get_wordnet_pos(treebank_tag):\n",
        "    if treebank_tag.startswith('J'):\n",
        "        return wordnet.ADJ\n",
        "    elif treebank_tag.startswith('V'):\n",
        "        return wordnet.VERB\n",
        "    elif treebank_tag.startswith('N'):\n",
        "        return wordnet.NOUN\n",
        "    elif treebank_tag.startswith('R'):\n",
        "        return wordnet.ADV\n",
        "    else:\n",
        "        return wordnet.NOUN\n",
        "\n",
        "def preprocess_text(text):\n",
        "    # Convert to lowercase\n",
        "    text = text.lower()\n",
        "    # Remove punctuation\n",
        "    text = re.sub(r'[^\\w\\s]', '', text)\n",
        "    # Tokenization\n",
        "    words = word_tokenize(text)\n",
        "    # Convert numbers to their word equivalents\n",
        "    words = [num2words(i) if i.isdigit() else i for i in words]\n",
        "    # Remove stopwords and apply lemmatization\n",
        "    stop_words = set(stopwords.words('english'))\n",
        "    lemmatizer = WordNetLemmatizer()\n",
        "    words = [lemmatizer.lemmatize(word, get_wordnet_pos(pos)) for word, pos in pos_tag(words) if word not in stop_words]\n",
        "    return words\n",
        "\n",
        "def load_and_preprocess_data(filepath):\n",
        "    data = pd.read_csv(filepath)\n",
        "    data['processed_text'] = data['medical_abstract'].apply(preprocess_text)\n",
        "    return data\n",
        "\n",
        "data = load_and_preprocess_data('/content/drive/MyDrive/data.csv')\n",
        "\n",
        "# TF-IDF Transformation\n",
        "vectorizer = TfidfVectorizer(analyzer=lambda x: x, ngram_range=(2, 5))\n",
        "tfidf_matrix = vectorizer.fit_transform(data['processed_text'])\n"
      ]
    },
    {
      "cell_type": "code",
      "source": [
        "from google.colab import drive\n",
        "drive.mount('/content/drive')"
      ],
      "metadata": {
        "colab": {
          "base_uri": "https://localhost:8080/"
        },
        "id": "lTEMGoGcBbYz",
        "outputId": "ef38711d-9727-4796-a601-a0f262be93e5"
      },
      "execution_count": 1,
      "outputs": [
        {
          "output_type": "stream",
          "name": "stdout",
          "text": [
            "Mounted at /content/drive\n"
          ]
        }
      ]
    },
    {
      "cell_type": "markdown",
      "metadata": {
        "id": "fa_hmER3-4fB"
      },
      "source": [
        "Splitting the Data"
      ]
    },
    {
      "cell_type": "code",
      "execution_count": 9,
      "metadata": {
        "id": "Pkww7pg5-8OK"
      },
      "outputs": [],
      "source": [
        "from sklearn.model_selection import train_test_split\n",
        "\n",
        "train_val, test_data = train_test_split(data, test_size=0.2, random_state=42)\n",
        "train_data, val_data = train_test_split(train_val, test_size=0.25, random_state=42)"
      ]
    },
    {
      "cell_type": "markdown",
      "metadata": {
        "id": "fZcpq_5x-_nh"
      },
      "source": [
        "Feature Engineering for Traditional Models:\n",
        "SVMs, logistic regression, etc.\n",
        "\n"
      ]
    },
    {
      "cell_type": "code",
      "execution_count": null,
      "metadata": {
        "id": "NvLFiMXm-_VM"
      },
      "outputs": [],
      "source": [
        "from sklearn.feature_extraction.text import TfidfVectorizer\n",
        "\n",
        "vectorizer = TfidfVectorizer(max_features=5000)\n",
        "X_train_tfidf = vectorizer.fit_transform(train_data['processed_text']).toarray()\n",
        "X_val_tfidf = vectorizer.transform(val_data['processed_text']).toarray()\n",
        "X_test_tfidf = vectorizer.transform(test_data['processed_text']).toarray()\n",
        "\n",
        "y_train = train_data['condition_label']\n",
        "y_val = val_data['condition_label']\n",
        "y_test = test_data['condition_label']"
      ]
    },
    {
      "cell_type": "markdown",
      "metadata": {
        "id": "PfjF6jx1_Gj7"
      },
      "source": [
        " Preparing for BERT and Other Transformers"
      ]
    },
    {
      "cell_type": "code",
      "execution_count": null,
      "metadata": {
        "colab": {
          "base_uri": "https://localhost:8080/"
        },
        "id": "Z2stJqvd_K-3",
        "outputId": "cd26d8d3-724d-4c4b-ef38-6d68b88ff073"
      },
      "outputs": [
        {
          "name": "stderr",
          "output_type": "stream",
          "text": [
            "/usr/local/lib/python3.10/dist-packages/huggingface_hub/utils/_token.py:88: UserWarning: \n",
            "The secret `HF_TOKEN` does not exist in your Colab secrets.\n",
            "To authenticate with the Hugging Face Hub, create a token in your settings tab (https://huggingface.co/settings/tokens), set it as secret in your Google Colab and restart your session.\n",
            "You will be able to reuse this secret in all of your notebooks.\n",
            "Please note that authentication is recommended but still optional to access public models or datasets.\n",
            "  warnings.warn(\n"
          ]
        }
      ],
      "source": [
        "from transformers import BertTokenizer\n",
        "\n",
        "tokenizer = BertTokenizer.from_pretrained('bert-base-uncased')\n",
        "\n",
        "def tokenize_for_bert(data):\n",
        "    texts = data['processed_text'].tolist()\n",
        "    return tokenizer(texts, padding=\"max_length\", truncation=True, max_length=512, return_tensors=\"pt\")\n",
        "\n",
        "train_encodings = tokenize_for_bert(train_data)\n",
        "val_encodings = tokenize_for_bert(val_data)\n",
        "test_encodings = tokenize_for_bert(test_data)\n"
      ]
    },
    {
      "cell_type": "markdown",
      "metadata": {
        "id": "6nlueAC6_PlR"
      },
      "source": [
        "*Model Training:*"
      ]
    },
    {
      "cell_type": "code",
      "execution_count": null,
      "metadata": {
        "id": "zulpwqQs_Qh4"
      },
      "outputs": [],
      "source": [
        "#SVM\n",
        "from sklearn.svm import SVC\n",
        "from sklearn.model_selection import GridSearchCV\n",
        "\n",
        "# Define the model and parameter grid\n",
        "svc = SVC()\n",
        "param_grid_svc = {\n",
        "    'C': [0.1, 1, 10],\n",
        "    'kernel': ['linear', 'rbf'],\n",
        "    'gamma': ['scale', 'auto']\n",
        "}\n",
        "\n",
        "# Setup GridSearchCV\n",
        "grid_search_svc = GridSearchCV(svc, param_grid_svc, cv=5, scoring='accuracy')\n",
        "\n",
        "# Fit the model\n",
        "grid_search_svc.fit(X_train_tfidf, y_train)\n",
        "\n",
        "# Evaluate the model\n",
        "best_svc = grid_search_svc.best_estimator_\n",
        "print(f\"Best Parameters for SVM: {grid_search_svc.best_params_}\")\n"
      ]
    },
    {
      "cell_type": "markdown",
      "metadata": {
        "id": "8B-tl3r2GkPR"
      },
      "source": [
        "### Decision Tree\n"
      ]
    },
    {
      "cell_type": "markdown",
      "metadata": {
        "id": "gnVtIWDQGrJG"
      },
      "source": [
        "Training a Decision Tree model using the default hyperparameters and evaluate its."
      ]
    },
    {
      "cell_type": "code",
      "execution_count": null,
      "metadata": {
        "colab": {
          "base_uri": "https://localhost:8080/"
        },
        "id": "Ru6PfGDGG8BR",
        "outputId": "d811ada2-0068-4537-a70e-9d3d3d83122f"
      },
      "outputs": [
        {
          "name": "stdout",
          "output_type": "stream",
          "text": [
            "Accuracy on Test Data: 0.4268349696119682\n",
            "Accuracy on Validation Data: 0.44340505144995324\n"
          ]
        }
      ],
      "source": [
        "from sklearn.tree import DecisionTreeClassifier\n",
        "from sklearn.metrics import accuracy_score\n",
        "\n",
        "# Initialize the Decision Tree model with default hyperparameters\n",
        "dt_classifier = DecisionTreeClassifier()\n",
        "\n",
        "# Train the Decision Tree model\n",
        "dt_classifier.fit(X_train_tfidf, y_train)\n",
        "\n",
        "# Predict on the test data\n",
        "y_test_pred = dt_classifier.predict(X_test_tfidf)\n",
        "# Predict on the validation data\n",
        "y_val_pred = dt_classifier.predict(X_val_tfidf)\n",
        "\n",
        "# Evaluate the model on the test data for accuracy\n",
        "test_accuracy = accuracy_score(y_test, y_test_pred)\n",
        "print(\"Accuracy on Test Data:\", test_accuracy)\n",
        "\n",
        "# Evaluate the model on the validation data for accuracy\n",
        "val_accuracy = accuracy_score(y_val, y_val_pred)\n",
        "print(\"Accuracy on Validation Data:\", val_accuracy)\n"
      ]
    },
    {
      "cell_type": "markdown",
      "metadata": {
        "id": "CdmvHBe1JUsN"
      },
      "source": [
        "#### Hyperparameter tuning"
      ]
    },
    {
      "cell_type": "markdown",
      "metadata": {
        "id": "sQsrjM0iJVpL"
      },
      "source": [
        "Useing the GridSearchCV module of the sklearn library to tune the hyperparameter of the Decision Tree model on the validation set."
      ]
    },
    {
      "cell_type": "code",
      "execution_count": null,
      "metadata": {
        "colab": {
          "base_uri": "https://localhost:8080/",
          "height": 383
        },
        "id": "H5Lsgf9YJtZh",
        "outputId": "bea0a6bb-5db8-4834-b6d7-5b805742a435"
      },
      "outputs": [
        {
          "name": "stdout",
          "output_type": "stream",
          "text": [
            "Fitting 5 folds for each of 2736 candidates, totalling 13680 fits\n"
          ]
        },
        {
          "ename": "KeyboardInterrupt",
          "evalue": "",
          "output_type": "error",
          "traceback": [
            "\u001b[0;31m---------------------------------------------------------------------------\u001b[0m",
            "\u001b[0;31mKeyboardInterrupt\u001b[0m                         Traceback (most recent call last)",
            "\u001b[0;32m<ipython-input-10-81880f14fb3c>\u001b[0m in \u001b[0;36m<cell line: 20>\u001b[0;34m()\u001b[0m\n\u001b[1;32m     18\u001b[0m \u001b[0;34m\u001b[0m\u001b[0m\n\u001b[1;32m     19\u001b[0m \u001b[0;31m# Fit GridSearchCV\u001b[0m\u001b[0;34m\u001b[0m\u001b[0;34m\u001b[0m\u001b[0m\n\u001b[0;32m---> 20\u001b[0;31m \u001b[0mgrid_search\u001b[0m\u001b[0;34m.\u001b[0m\u001b[0mfit\u001b[0m\u001b[0;34m(\u001b[0m\u001b[0mX_train_tfidf\u001b[0m\u001b[0;34m,\u001b[0m \u001b[0my_train\u001b[0m\u001b[0;34m)\u001b[0m\u001b[0;34m\u001b[0m\u001b[0;34m\u001b[0m\u001b[0m\n\u001b[0m\u001b[1;32m     21\u001b[0m \u001b[0;34m\u001b[0m\u001b[0m\n\u001b[1;32m     22\u001b[0m \u001b[0;31m# Best estimator\u001b[0m\u001b[0;34m\u001b[0m\u001b[0;34m\u001b[0m\u001b[0m\n",
            "\u001b[0;32m/usr/local/lib/python3.10/dist-packages/sklearn/model_selection/_search.py\u001b[0m in \u001b[0;36mfit\u001b[0;34m(self, X, y, groups, **fit_params)\u001b[0m\n\u001b[1;32m    872\u001b[0m                 \u001b[0;32mreturn\u001b[0m \u001b[0mresults\u001b[0m\u001b[0;34m\u001b[0m\u001b[0;34m\u001b[0m\u001b[0m\n\u001b[1;32m    873\u001b[0m \u001b[0;34m\u001b[0m\u001b[0m\n\u001b[0;32m--> 874\u001b[0;31m             \u001b[0mself\u001b[0m\u001b[0;34m.\u001b[0m\u001b[0m_run_search\u001b[0m\u001b[0;34m(\u001b[0m\u001b[0mevaluate_candidates\u001b[0m\u001b[0;34m)\u001b[0m\u001b[0;34m\u001b[0m\u001b[0;34m\u001b[0m\u001b[0m\n\u001b[0m\u001b[1;32m    875\u001b[0m \u001b[0;34m\u001b[0m\u001b[0m\n\u001b[1;32m    876\u001b[0m             \u001b[0;31m# multimetric is determined here because in the case of a callable\u001b[0m\u001b[0;34m\u001b[0m\u001b[0;34m\u001b[0m\u001b[0m\n",
            "\u001b[0;32m/usr/local/lib/python3.10/dist-packages/sklearn/model_selection/_search.py\u001b[0m in \u001b[0;36m_run_search\u001b[0;34m(self, evaluate_candidates)\u001b[0m\n\u001b[1;32m   1386\u001b[0m     \u001b[0;32mdef\u001b[0m \u001b[0m_run_search\u001b[0m\u001b[0;34m(\u001b[0m\u001b[0mself\u001b[0m\u001b[0;34m,\u001b[0m \u001b[0mevaluate_candidates\u001b[0m\u001b[0;34m)\u001b[0m\u001b[0;34m:\u001b[0m\u001b[0;34m\u001b[0m\u001b[0;34m\u001b[0m\u001b[0m\n\u001b[1;32m   1387\u001b[0m         \u001b[0;34m\"\"\"Search all candidates in param_grid\"\"\"\u001b[0m\u001b[0;34m\u001b[0m\u001b[0;34m\u001b[0m\u001b[0m\n\u001b[0;32m-> 1388\u001b[0;31m         \u001b[0mevaluate_candidates\u001b[0m\u001b[0;34m(\u001b[0m\u001b[0mParameterGrid\u001b[0m\u001b[0;34m(\u001b[0m\u001b[0mself\u001b[0m\u001b[0;34m.\u001b[0m\u001b[0mparam_grid\u001b[0m\u001b[0;34m)\u001b[0m\u001b[0;34m)\u001b[0m\u001b[0;34m\u001b[0m\u001b[0;34m\u001b[0m\u001b[0m\n\u001b[0m\u001b[1;32m   1389\u001b[0m \u001b[0;34m\u001b[0m\u001b[0m\n\u001b[1;32m   1390\u001b[0m \u001b[0;34m\u001b[0m\u001b[0m\n",
            "\u001b[0;32m/usr/local/lib/python3.10/dist-packages/sklearn/model_selection/_search.py\u001b[0m in \u001b[0;36mevaluate_candidates\u001b[0;34m(candidate_params, cv, more_results)\u001b[0m\n\u001b[1;32m    819\u001b[0m                     )\n\u001b[1;32m    820\u001b[0m \u001b[0;34m\u001b[0m\u001b[0m\n\u001b[0;32m--> 821\u001b[0;31m                 out = parallel(\n\u001b[0m\u001b[1;32m    822\u001b[0m                     delayed(_fit_and_score)(\n\u001b[1;32m    823\u001b[0m                         \u001b[0mclone\u001b[0m\u001b[0;34m(\u001b[0m\u001b[0mbase_estimator\u001b[0m\u001b[0;34m)\u001b[0m\u001b[0;34m,\u001b[0m\u001b[0;34m\u001b[0m\u001b[0;34m\u001b[0m\u001b[0m\n",
            "\u001b[0;32m/usr/local/lib/python3.10/dist-packages/sklearn/utils/parallel.py\u001b[0m in \u001b[0;36m__call__\u001b[0;34m(self, iterable)\u001b[0m\n\u001b[1;32m     61\u001b[0m             \u001b[0;32mfor\u001b[0m \u001b[0mdelayed_func\u001b[0m\u001b[0;34m,\u001b[0m \u001b[0margs\u001b[0m\u001b[0;34m,\u001b[0m \u001b[0mkwargs\u001b[0m \u001b[0;32min\u001b[0m \u001b[0miterable\u001b[0m\u001b[0;34m\u001b[0m\u001b[0;34m\u001b[0m\u001b[0m\n\u001b[1;32m     62\u001b[0m         )\n\u001b[0;32m---> 63\u001b[0;31m         \u001b[0;32mreturn\u001b[0m \u001b[0msuper\u001b[0m\u001b[0;34m(\u001b[0m\u001b[0;34m)\u001b[0m\u001b[0;34m.\u001b[0m\u001b[0m__call__\u001b[0m\u001b[0;34m(\u001b[0m\u001b[0miterable_with_config\u001b[0m\u001b[0;34m)\u001b[0m\u001b[0;34m\u001b[0m\u001b[0;34m\u001b[0m\u001b[0m\n\u001b[0m\u001b[1;32m     64\u001b[0m \u001b[0;34m\u001b[0m\u001b[0m\n\u001b[1;32m     65\u001b[0m \u001b[0;34m\u001b[0m\u001b[0m\n",
            "\u001b[0;32m/usr/local/lib/python3.10/dist-packages/joblib/parallel.py\u001b[0m in \u001b[0;36m__call__\u001b[0;34m(self, iterable)\u001b[0m\n\u001b[1;32m   1916\u001b[0m             \u001b[0moutput\u001b[0m \u001b[0;34m=\u001b[0m \u001b[0mself\u001b[0m\u001b[0;34m.\u001b[0m\u001b[0m_get_sequential_output\u001b[0m\u001b[0;34m(\u001b[0m\u001b[0miterable\u001b[0m\u001b[0;34m)\u001b[0m\u001b[0;34m\u001b[0m\u001b[0;34m\u001b[0m\u001b[0m\n\u001b[1;32m   1917\u001b[0m             \u001b[0mnext\u001b[0m\u001b[0;34m(\u001b[0m\u001b[0moutput\u001b[0m\u001b[0;34m)\u001b[0m\u001b[0;34m\u001b[0m\u001b[0;34m\u001b[0m\u001b[0m\n\u001b[0;32m-> 1918\u001b[0;31m             \u001b[0;32mreturn\u001b[0m \u001b[0moutput\u001b[0m \u001b[0;32mif\u001b[0m \u001b[0mself\u001b[0m\u001b[0;34m.\u001b[0m\u001b[0mreturn_generator\u001b[0m \u001b[0;32melse\u001b[0m \u001b[0mlist\u001b[0m\u001b[0;34m(\u001b[0m\u001b[0moutput\u001b[0m\u001b[0;34m)\u001b[0m\u001b[0;34m\u001b[0m\u001b[0;34m\u001b[0m\u001b[0m\n\u001b[0m\u001b[1;32m   1919\u001b[0m \u001b[0;34m\u001b[0m\u001b[0m\n\u001b[1;32m   1920\u001b[0m         \u001b[0;31m# Let's create an ID that uniquely identifies the current call. If the\u001b[0m\u001b[0;34m\u001b[0m\u001b[0;34m\u001b[0m\u001b[0m\n",
            "\u001b[0;32m/usr/local/lib/python3.10/dist-packages/joblib/parallel.py\u001b[0m in \u001b[0;36m_get_sequential_output\u001b[0;34m(self, iterable)\u001b[0m\n\u001b[1;32m   1845\u001b[0m                 \u001b[0mself\u001b[0m\u001b[0;34m.\u001b[0m\u001b[0mn_dispatched_batches\u001b[0m \u001b[0;34m+=\u001b[0m \u001b[0;36m1\u001b[0m\u001b[0;34m\u001b[0m\u001b[0;34m\u001b[0m\u001b[0m\n\u001b[1;32m   1846\u001b[0m                 \u001b[0mself\u001b[0m\u001b[0;34m.\u001b[0m\u001b[0mn_dispatched_tasks\u001b[0m \u001b[0;34m+=\u001b[0m \u001b[0;36m1\u001b[0m\u001b[0;34m\u001b[0m\u001b[0;34m\u001b[0m\u001b[0m\n\u001b[0;32m-> 1847\u001b[0;31m                 \u001b[0mres\u001b[0m \u001b[0;34m=\u001b[0m \u001b[0mfunc\u001b[0m\u001b[0;34m(\u001b[0m\u001b[0;34m*\u001b[0m\u001b[0margs\u001b[0m\u001b[0;34m,\u001b[0m \u001b[0;34m**\u001b[0m\u001b[0mkwargs\u001b[0m\u001b[0;34m)\u001b[0m\u001b[0;34m\u001b[0m\u001b[0;34m\u001b[0m\u001b[0m\n\u001b[0m\u001b[1;32m   1848\u001b[0m                 \u001b[0mself\u001b[0m\u001b[0;34m.\u001b[0m\u001b[0mn_completed_tasks\u001b[0m \u001b[0;34m+=\u001b[0m \u001b[0;36m1\u001b[0m\u001b[0;34m\u001b[0m\u001b[0;34m\u001b[0m\u001b[0m\n\u001b[1;32m   1849\u001b[0m                 \u001b[0mself\u001b[0m\u001b[0;34m.\u001b[0m\u001b[0mprint_progress\u001b[0m\u001b[0;34m(\u001b[0m\u001b[0;34m)\u001b[0m\u001b[0;34m\u001b[0m\u001b[0;34m\u001b[0m\u001b[0m\n",
            "\u001b[0;32m/usr/local/lib/python3.10/dist-packages/sklearn/utils/parallel.py\u001b[0m in \u001b[0;36m__call__\u001b[0;34m(self, *args, **kwargs)\u001b[0m\n\u001b[1;32m    121\u001b[0m             \u001b[0mconfig\u001b[0m \u001b[0;34m=\u001b[0m \u001b[0;34m{\u001b[0m\u001b[0;34m}\u001b[0m\u001b[0;34m\u001b[0m\u001b[0;34m\u001b[0m\u001b[0m\n\u001b[1;32m    122\u001b[0m         \u001b[0;32mwith\u001b[0m \u001b[0mconfig_context\u001b[0m\u001b[0;34m(\u001b[0m\u001b[0;34m**\u001b[0m\u001b[0mconfig\u001b[0m\u001b[0;34m)\u001b[0m\u001b[0;34m:\u001b[0m\u001b[0;34m\u001b[0m\u001b[0;34m\u001b[0m\u001b[0m\n\u001b[0;32m--> 123\u001b[0;31m             \u001b[0;32mreturn\u001b[0m \u001b[0mself\u001b[0m\u001b[0;34m.\u001b[0m\u001b[0mfunction\u001b[0m\u001b[0;34m(\u001b[0m\u001b[0;34m*\u001b[0m\u001b[0margs\u001b[0m\u001b[0;34m,\u001b[0m \u001b[0;34m**\u001b[0m\u001b[0mkwargs\u001b[0m\u001b[0;34m)\u001b[0m\u001b[0;34m\u001b[0m\u001b[0;34m\u001b[0m\u001b[0m\n\u001b[0m",
            "\u001b[0;32m/usr/local/lib/python3.10/dist-packages/sklearn/model_selection/_validation.py\u001b[0m in \u001b[0;36m_fit_and_score\u001b[0;34m(estimator, X, y, scorer, train, test, verbose, parameters, fit_params, return_train_score, return_parameters, return_n_test_samples, return_times, return_estimator, split_progress, candidate_progress, error_score)\u001b[0m\n\u001b[1;32m    684\u001b[0m             \u001b[0mestimator\u001b[0m\u001b[0;34m.\u001b[0m\u001b[0mfit\u001b[0m\u001b[0;34m(\u001b[0m\u001b[0mX_train\u001b[0m\u001b[0;34m,\u001b[0m \u001b[0;34m**\u001b[0m\u001b[0mfit_params\u001b[0m\u001b[0;34m)\u001b[0m\u001b[0;34m\u001b[0m\u001b[0;34m\u001b[0m\u001b[0m\n\u001b[1;32m    685\u001b[0m         \u001b[0;32melse\u001b[0m\u001b[0;34m:\u001b[0m\u001b[0;34m\u001b[0m\u001b[0;34m\u001b[0m\u001b[0m\n\u001b[0;32m--> 686\u001b[0;31m             \u001b[0mestimator\u001b[0m\u001b[0;34m.\u001b[0m\u001b[0mfit\u001b[0m\u001b[0;34m(\u001b[0m\u001b[0mX_train\u001b[0m\u001b[0;34m,\u001b[0m \u001b[0my_train\u001b[0m\u001b[0;34m,\u001b[0m \u001b[0;34m**\u001b[0m\u001b[0mfit_params\u001b[0m\u001b[0;34m)\u001b[0m\u001b[0;34m\u001b[0m\u001b[0;34m\u001b[0m\u001b[0m\n\u001b[0m\u001b[1;32m    687\u001b[0m \u001b[0;34m\u001b[0m\u001b[0m\n\u001b[1;32m    688\u001b[0m     \u001b[0;32mexcept\u001b[0m \u001b[0mException\u001b[0m\u001b[0;34m:\u001b[0m\u001b[0;34m\u001b[0m\u001b[0;34m\u001b[0m\u001b[0m\n",
            "\u001b[0;32m/usr/local/lib/python3.10/dist-packages/sklearn/tree/_classes.py\u001b[0m in \u001b[0;36mfit\u001b[0;34m(self, X, y, sample_weight, check_input)\u001b[0m\n\u001b[1;32m    887\u001b[0m         \"\"\"\n\u001b[1;32m    888\u001b[0m \u001b[0;34m\u001b[0m\u001b[0m\n\u001b[0;32m--> 889\u001b[0;31m         super().fit(\n\u001b[0m\u001b[1;32m    890\u001b[0m             \u001b[0mX\u001b[0m\u001b[0;34m,\u001b[0m\u001b[0;34m\u001b[0m\u001b[0;34m\u001b[0m\u001b[0m\n\u001b[1;32m    891\u001b[0m             \u001b[0my\u001b[0m\u001b[0;34m,\u001b[0m\u001b[0;34m\u001b[0m\u001b[0;34m\u001b[0m\u001b[0m\n",
            "\u001b[0;32m/usr/local/lib/python3.10/dist-packages/sklearn/tree/_classes.py\u001b[0m in \u001b[0;36mfit\u001b[0;34m(self, X, y, sample_weight, check_input)\u001b[0m\n\u001b[1;32m    377\u001b[0m             )\n\u001b[1;32m    378\u001b[0m \u001b[0;34m\u001b[0m\u001b[0m\n\u001b[0;32m--> 379\u001b[0;31m         \u001b[0mbuilder\u001b[0m\u001b[0;34m.\u001b[0m\u001b[0mbuild\u001b[0m\u001b[0;34m(\u001b[0m\u001b[0mself\u001b[0m\u001b[0;34m.\u001b[0m\u001b[0mtree_\u001b[0m\u001b[0;34m,\u001b[0m \u001b[0mX\u001b[0m\u001b[0;34m,\u001b[0m \u001b[0my\u001b[0m\u001b[0;34m,\u001b[0m \u001b[0msample_weight\u001b[0m\u001b[0;34m)\u001b[0m\u001b[0;34m\u001b[0m\u001b[0;34m\u001b[0m\u001b[0m\n\u001b[0m\u001b[1;32m    380\u001b[0m \u001b[0;34m\u001b[0m\u001b[0m\n\u001b[1;32m    381\u001b[0m         \u001b[0;32mif\u001b[0m \u001b[0mself\u001b[0m\u001b[0;34m.\u001b[0m\u001b[0mn_outputs_\u001b[0m \u001b[0;34m==\u001b[0m \u001b[0;36m1\u001b[0m \u001b[0;32mand\u001b[0m \u001b[0mis_classifier\u001b[0m\u001b[0;34m(\u001b[0m\u001b[0mself\u001b[0m\u001b[0;34m)\u001b[0m\u001b[0;34m:\u001b[0m\u001b[0;34m\u001b[0m\u001b[0;34m\u001b[0m\u001b[0m\n",
            "\u001b[0;31mKeyboardInterrupt\u001b[0m: "
          ]
        }
      ],
      "source": [
        "from sklearn.tree import DecisionTreeClassifier\n",
        "from sklearn.model_selection import GridSearchCV\n",
        "from sklearn.metrics import accuracy_score\n",
        "\n",
        "# Initialize the Decision Tree model\n",
        "dt_classifier = DecisionTreeClassifier()\n",
        "\n",
        "# Set up the parameter grid to tune\n",
        "param_grid = {\n",
        "    'criterion': ['gini', 'entropy'],\n",
        "    'max_depth': range(1, 20),\n",
        "    'min_samples_split': range(2, 10),\n",
        "    'min_samples_leaf': range(1, 10)\n",
        "}\n",
        "\n",
        "# Initialize the GridSearchCV object\n",
        "grid_search = GridSearchCV(estimator=dt_classifier, param_grid=param_grid, scoring='accuracy', cv=5, verbose=1)\n",
        "\n",
        "# Fit GridSearchCV\n",
        "grid_search.fit(X_train_tfidf, y_train)\n",
        "\n",
        "# Best estimator\n",
        "best_dt = grid_search.best_estimator_\n",
        "\n",
        "# Predict on the validation data using the best found parameters\n",
        "y_val_pred = best_dt.predict(X_val_tfidf)\n",
        "\n",
        "# Evaluate the model on the validation data for accuracy\n",
        "val_accuracy = accuracy_score(y_val, y_val_pred)\n",
        "print(\"Best Parameters:\", grid_search.best_params_)\n",
        "print(\"Accuracy on Validation Data with Best Parameters:\", val_accuracy)\n"
      ]
    },
    {
      "cell_type": "code",
      "source": [
        "# Check for class imbalance\n",
        "class_counts = train_data['condition_label'].value_counts()\n",
        "print(class_counts)"
      ],
      "metadata": {
        "colab": {
          "base_uri": "https://localhost:8080/"
        },
        "id": "--TSc2L2kzKI",
        "outputId": "ee23a301-0a47-437b-a43d-ab9fd547a153"
      },
      "execution_count": 4,
      "outputs": [
        {
          "output_type": "stream",
          "name": "stdout",
          "text": [
            "condition_label\n",
            "5    2279\n",
            "1    1525\n",
            "4    1436\n",
            "3     949\n",
            "2     741\n",
            "Name: count, dtype: int64\n"
          ]
        }
      ]
    },
    {
      "cell_type": "markdown",
      "metadata": {
        "id": "x6McNGiD9bLg"
      },
      "source": [
        "**Neural Networks**\n"
      ]
    },
    {
      "cell_type": "code",
      "source": [
        "#version 2\n",
        "from keras.models import Sequential\n",
        "from keras.layers import Embedding, LSTM, Dense, Dropout, Bidirectional\n",
        "from keras.layers import Conv1D, GlobalMaxPooling1D\n",
        "from keras.optimizers import Adam\n",
        "from keras.callbacks import ModelCheckpoint\n",
        "from keras.preprocessing.text import Tokenizer\n",
        "from keras.preprocessing.sequence import pad_sequences\n",
        "from sklearn.utils import class_weight\n",
        "from keras.utils import to_categorical\n",
        "from sklearn.metrics import classification_report\n",
        "import matplotlib.pyplot as plt\n",
        "import numpy as np\n",
        "import gensim\n",
        "\n",
        "# Load Word2Vec model (make sure you've downloaded it first)\n",
        "word2vec = gensim.models.KeyedVectors.load_word2vec_format('/content/drive/MyDrive/GoogleNews-vectors-negative300.bin', binary=True)\n",
        "\n",
        "# Tokenize the text\n",
        "tokenizer = Tokenizer()\n",
        "tokenizer.fit_on_texts(train_data['processed_text'])\n",
        "vocab_size = len(tokenizer.word_index) + 1\n",
        "\n",
        "# Convert text to sequences\n",
        "train_sequences = tokenizer.texts_to_sequences(train_data['processed_text'])\n",
        "val_sequences = tokenizer.texts_to_sequences(val_data['processed_text'])\n",
        "\n",
        "# Pad sequences\n",
        "max_length = max([len(s) for s in train_data['processed_text']])\n",
        "train_sequences = pad_sequences(train_sequences, maxlen=max_length, padding='post')\n",
        "val_sequences = pad_sequences(val_sequences, maxlen=max_length, padding='post')\n",
        "\n",
        "# Create a weight matrix for words in training docs\n",
        "embedding_matrix = np.zeros((vocab_size, 300))\n",
        "for word, i in tokenizer.word_index.items():\n",
        "    if word in word2vec.key_to_index:  # Use .key_to_index instead of .vocab\n",
        "        embedding_matrix[i] = word2vec.get_vector(word)  # Use .get_vector(word) instead of .word_vec(word)\n",
        "\n",
        "\n",
        "# Create a copy of the labels and subtract 1 to make them 0-indexed\n",
        "train_labels = train_data['condition_label'].copy() - 1\n",
        "val_labels = val_data['condition_label'].copy() - 1\n",
        "\n",
        "# Convert labels to one-hot vectors\n",
        "num_classes = 5  # Set this to the actual number of classes\n",
        "train_labels = to_categorical(train_labels, num_classes=num_classes)\n",
        "val_labels = to_categorical(val_labels, num_classes=num_classes)\n",
        "\n",
        "# Define the model\n",
        "model = Sequential()\n",
        "model.add(Embedding(vocab_size, 300, weights=[embedding_matrix], input_length=max_length, trainable=False))\n",
        "model.add(Conv1D(128, 5, activation='relu'))\n",
        "model.add(GlobalMaxPooling1D())\n",
        "model.add(Dense(64, activation='relu'))\n",
        "model.add(Dense(32, activation='relu'))\n",
        "model.add(Dense(num_classes, activation='softmax'))\n",
        "\n",
        "from keras import metrics\n",
        "\n",
        "# Compile the model\n",
        "model.compile(optimizer=Adam(),\n",
        "              loss='categorical_crossentropy',\n",
        "              metrics=['accuracy',\n",
        "                       metrics.Precision(name='precision'),\n",
        "                       metrics.Recall(name='recall'),\n",
        "                       metrics.AUC(name='auc')])\n",
        "\n",
        "\n",
        "\n",
        "# Calculate class weights\n",
        "class_weights = class_weight.compute_sample_weight('balanced', train_data['condition_label'])\n",
        "\n",
        "# Convert class weights to dictionary\n",
        "class_weight_dict = dict(enumerate(class_weights))\n",
        "\n",
        "# Train the model with class weights\n",
        "checkpoint = ModelCheckpoint('best_model.h5', save_best_only=True, monitor='val_loss', mode='min')\n",
        "history = model.fit(train_sequences, train_labels, validation_data=(val_sequences, val_labels), epochs=10, callbacks=[checkpoint], class_weight=class_weight_dict)\n",
        "\n",
        "# Plot training & validation accuracy values\n",
        "plt.plot(history.history['accuracy'])\n",
        "plt.plot(history.history['val_accuracy'])\n",
        "plt.title('Model accuracy')\n",
        "plt.ylabel('Accuracy')\n",
        "plt.xlabel('Epoch')\n",
        "plt.legend(['Train', 'Validation'], loc='upper left')\n",
        "plt.show()\n",
        "\n",
        "# Plot training & validation loss values\n",
        "plt.plot(history.history['loss'])\n",
        "plt.plot(history.history['val_loss'])\n",
        "plt.title('Model loss')\n",
        "plt.ylabel('Loss')\n",
        "plt.xlabel('Epoch')\n",
        "plt.legend(['Train', 'Validation'], loc='upper left')\n",
        "plt.show()\n",
        "\n",
        "# Get predictions\n",
        "preds = model.predict(val_sequences)\n",
        "preds = np.argmax(preds, axis=1)  # Convert probabilities to class labels\n",
        "\n",
        "# Add 1 to get the original labels\n",
        "preds = preds + 1\n",
        "\n",
        "# Calculate metrics\n",
        "report = classification_report(np.argmax(val_labels, axis=1) + 1, preds)\n",
        "print(report)\n"
      ],
      "metadata": {
        "colab": {
          "base_uri": "https://localhost:8080/",
          "height": 1000
        },
        "id": "eG4hsUJPs17V",
        "outputId": "5875e98c-5274-4ee8-ee06-dfefebeb2450"
      },
      "execution_count": 5,
      "outputs": [
        {
          "output_type": "stream",
          "name": "stdout",
          "text": [
            "Epoch 1/10\n",
            "217/217 [==============================] - 57s 252ms/step - loss: 1.0613 - accuracy: 0.5351 - precision: 0.6408 - recall: 0.3329 - auc: 0.8249 - val_loss: 0.9599 - val_accuracy: 0.6074 - val_precision: 0.6944 - val_recall: 0.4299 - val_auc: 0.8827\n",
            "Epoch 2/10\n"
          ]
        },
        {
          "output_type": "stream",
          "name": "stderr",
          "text": [
            "/usr/local/lib/python3.10/dist-packages/keras/src/engine/training.py:3103: UserWarning: You are saving your model as an HDF5 file via `model.save()`. This file format is considered legacy. We recommend using instead the native Keras format, e.g. `model.save('my_model.keras')`.\n",
            "  saving_api.save_model(\n"
          ]
        },
        {
          "output_type": "stream",
          "name": "stdout",
          "text": [
            "217/217 [==============================] - 46s 214ms/step - loss: 0.8031 - accuracy: 0.6355 - precision: 0.6873 - recall: 0.5323 - auc: 0.9010 - val_loss: 0.9360 - val_accuracy: 0.5983 - val_precision: 0.6457 - val_recall: 0.5113 - val_auc: 0.8862\n",
            "Epoch 3/10\n",
            "217/217 [==============================] - 53s 245ms/step - loss: 0.6641 - accuracy: 0.6974 - precision: 0.7336 - recall: 0.6398 - auc: 0.9304 - val_loss: 0.9858 - val_accuracy: 0.5944 - val_precision: 0.6180 - val_recall: 0.5147 - val_auc: 0.8783\n",
            "Epoch 4/10\n",
            "217/217 [==============================] - 51s 237ms/step - loss: 0.5657 - accuracy: 0.7455 - precision: 0.7712 - recall: 0.7043 - auc: 0.9488 - val_loss: 1.0712 - val_accuracy: 0.5537 - val_precision: 0.5688 - val_recall: 0.5082 - val_auc: 0.8656\n",
            "Epoch 5/10\n",
            "217/217 [==============================] - 48s 222ms/step - loss: 0.4745 - accuracy: 0.7941 - precision: 0.8078 - recall: 0.7677 - auc: 0.9632 - val_loss: 1.1681 - val_accuracy: 0.5667 - val_precision: 0.5842 - val_recall: 0.5273 - val_auc: 0.8632\n",
            "Epoch 6/10\n",
            "217/217 [==============================] - 47s 217ms/step - loss: 0.4326 - accuracy: 0.8127 - precision: 0.8230 - recall: 0.7957 - auc: 0.9693 - val_loss: 1.2410 - val_accuracy: 0.5251 - val_precision: 0.5361 - val_recall: 0.5052 - val_auc: 0.8525\n",
            "Epoch 7/10\n",
            "217/217 [==============================] - 50s 229ms/step - loss: 0.4036 - accuracy: 0.8250 - precision: 0.8339 - recall: 0.8111 - auc: 0.9727 - val_loss: 1.2679 - val_accuracy: 0.5623 - val_precision: 0.5756 - val_recall: 0.5320 - val_auc: 0.8585\n",
            "Epoch 8/10\n",
            "217/217 [==============================] - 47s 218ms/step - loss: 0.3617 - accuracy: 0.8339 - precision: 0.8410 - recall: 0.8244 - auc: 0.9787 - val_loss: 1.2646 - val_accuracy: 0.5498 - val_precision: 0.5606 - val_recall: 0.5307 - val_auc: 0.8620\n",
            "Epoch 9/10\n",
            "217/217 [==============================] - 48s 223ms/step - loss: 0.3461 - accuracy: 0.8395 - precision: 0.8451 - recall: 0.8336 - auc: 0.9805 - val_loss: 1.4340 - val_accuracy: 0.5281 - val_precision: 0.5307 - val_recall: 0.5156 - val_auc: 0.8463\n",
            "Epoch 10/10\n",
            "217/217 [==============================] - 52s 239ms/step - loss: 0.3334 - accuracy: 0.8395 - precision: 0.8468 - recall: 0.8343 - auc: 0.9821 - val_loss: 1.3123 - val_accuracy: 0.5424 - val_precision: 0.5524 - val_recall: 0.5177 - val_auc: 0.8537\n"
          ]
        },
        {
          "output_type": "display_data",
          "data": {
            "text/plain": [
              "<Figure size 640x480 with 1 Axes>"
            ],
            "image/png": "[encoded data removed]"
          },
          "metadata": {}
        },
        {
          "output_type": "display_data",
          "data": {
            "text/plain": [
              "<Figure size 640x480 with 1 Axes>"
            ],
            "image/png": "[encoded data removed]"
          },
          "metadata": {}
        },
        {
          "output_type": "stream",
          "name": "stdout",
          "text": [
            "73/73 [==============================] - 8s 102ms/step\n",
            "              precision    recall  f1-score   support\n",
            "\n",
            "           1       0.65      0.77      0.71       526\n",
            "           2       0.45      0.49      0.47       230\n",
            "           3       0.44      0.49      0.47       296\n",
            "           4       0.59      0.76      0.66       485\n",
            "           5       0.46      0.29      0.35       773\n",
            "\n",
            "    accuracy                           0.54      2310\n",
            "   macro avg       0.52      0.56      0.53      2310\n",
            "weighted avg       0.53      0.54      0.52      2310\n",
            "\n"
          ]
        }
      ]
    },
    {
      "cell_type": "code",
      "source": [
        "#with dropout layers\n",
        "#version 2\n",
        "!pip install keras-preprocessing\n",
        "\n",
        "from keras.models import Sequential\n",
        "from keras.layers import Embedding, LSTM, Dense, Dropout, Bidirectional\n",
        "from keras.layers import Conv1D, GlobalMaxPooling1D\n",
        "from keras.optimizers import Adam\n",
        "from keras.callbacks import ModelCheckpoint\n",
        "from keras.preprocessing.text import Tokenizer\n",
        "from keras.preprocessing.sequence import pad_sequences\n",
        "from sklearn.utils import class_weight\n",
        "from keras.utils import to_categorical\n",
        "from sklearn.metrics import classification_report\n",
        "import matplotlib.pyplot as plt\n",
        "import numpy as np\n",
        "import gensim\n",
        "\n",
        "# Load Word2Vec model (make sure you've downloaded it first)\n",
        "word2vec = gensim.models.KeyedVectors.load_word2vec_format('/content/drive/MyDrive/GoogleNews-vectors-negative300.bin', binary=True)\n",
        "\n",
        "# Tokenize the text\n",
        "tokenizer = Tokenizer()\n",
        "tokenizer.fit_on_texts(train_data['processed_text'])\n",
        "vocab_size = len(tokenizer.word_index) + 1\n",
        "\n",
        "# Convert text to sequences\n",
        "train_sequences = tokenizer.texts_to_sequences(train_data['processed_text'])\n",
        "val_sequences = tokenizer.texts_to_sequences(val_data['processed_text'])\n",
        "\n",
        "# Pad sequences\n",
        "max_length = max([len(s) for s in train_data['processed_text']])\n",
        "train_sequences = pad_sequences(train_sequences, maxlen=max_length, padding='post')\n",
        "val_sequences = pad_sequences(val_sequences, maxlen=max_length, padding='post')\n",
        "\n",
        "# Create a weight matrix for words in training docs\n",
        "embedding_matrix = np.zeros((vocab_size, 300))\n",
        "for word, i in tokenizer.word_index.items():\n",
        "    if word in word2vec.key_to_index:  # Use .key_to_index instead of .vocab\n",
        "        embedding_matrix[i] = word2vec.get_vector(word)  # Use .get_vector(word) instead of .word_vec(word)\n",
        "\n",
        "\n",
        "# Create a copy of the labels and subtract 1 to make them 0-indexed\n",
        "train_labels = train_data['condition_label'].copy() - 1\n",
        "val_labels = val_data['condition_label'].copy() - 1\n",
        "\n",
        "# Convert labels to one-hot vectors\n",
        "num_classes = 5  # Set this to the actual number of classes\n",
        "train_labels = to_categorical(train_labels, num_classes=num_classes)\n",
        "val_labels = to_categorical(val_labels, num_classes=num_classes)\n",
        "\n",
        "from keras.layers import Conv1D, GlobalMaxPooling1D\n",
        "\n",
        "# Define the model\n",
        "model = Sequential()\n",
        "model.add(Embedding(vocab_size, 300, weights=[embedding_matrix], input_length=max_length, trainable=False))\n",
        "model.add(Conv1D(128, 5, activation='sigmoid'))\n",
        "model.add(GlobalMaxPooling1D())\n",
        "model.add(Dense(64, activation='sigmoid'))\n",
        "model.add(Dropout(0.5))\n",
        "model.add(Dense(32, activation='sigmoid'))\n",
        "model.add(Dropout(0.5))\n",
        "model.add(Dense(num_classes, activation='softmax'))\n",
        "\n",
        "from keras import metrics\n",
        "\n",
        "# Compile the model\n",
        "model.compile(optimizer=Adam(),\n",
        "              loss='categorical_crossentropy',\n",
        "              metrics=['accuracy',\n",
        "                       metrics.Precision(name='precision'),\n",
        "                       metrics.Recall(name='recall'),\n",
        "                       metrics.AUC(name='auc')])\n",
        "\n",
        "\n",
        "\n",
        "# Calculate class weights\n",
        "class_weights = class_weight.compute_sample_weight('balanced', train_data['condition_label'])\n",
        "\n",
        "# Convert class weights to dictionary\n",
        "class_weight_dict = dict(enumerate(class_weights))\n",
        "\n",
        "# Train the model with class weights\n",
        "checkpoint = ModelCheckpoint('best_model.h5', save_best_only=True, monitor='val_loss', mode='min')\n",
        "history = model.fit(train_sequences, train_labels, validation_data=(val_sequences, val_labels), epochs=10, callbacks=[checkpoint], class_weight=class_weight_dict)\n",
        "\n",
        "# Plot training & validation accuracy values\n",
        "plt.plot(history.history['accuracy'])\n",
        "plt.plot(history.history['val_accuracy'])\n",
        "plt.title('Model accuracy')\n",
        "plt.ylabel('Accuracy')\n",
        "plt.xlabel('Epoch')\n",
        "plt.legend(['Train', 'Validation'], loc='upper left')\n",
        "plt.show()\n",
        "\n",
        "# Plot training & validation loss values\n",
        "plt.plot(history.history['loss'])\n",
        "plt.plot(history.history['val_loss'])\n",
        "plt.title('Model loss')\n",
        "plt.ylabel('Loss')\n",
        "plt.xlabel('Epoch')\n",
        "plt.legend(['Train', 'Validation'], loc='upper left')\n",
        "plt.show()\n",
        "\n",
        "# Get predictions\n",
        "preds = model.predict(val_sequences)\n",
        "preds = np.argmax(preds, axis=1)  # Convert probabilities to class labels\n",
        "\n",
        "# Add 1 to get the original labels\n",
        "preds = preds + 1\n",
        "\n",
        "# Calculate metrics\n",
        "report = classification_report(np.argmax(val_labels, axis=1) + 1, preds)\n",
        "print(report)\n"
      ],
      "metadata": {
        "colab": {
          "base_uri": "https://localhost:8080/",
          "height": 1000
        },
        "id": "Pe6IZO_g-lTv",
        "outputId": "ec637d81-030f-4c0b-be66-3ee4169683dc"
      },
      "execution_count": 6,
      "outputs": [
        {
          "output_type": "stream",
          "name": "stdout",
          "text": [
            "Collecting keras-preprocessing\n",
            "  Downloading Keras_Preprocessing-1.1.2-py2.py3-none-any.whl (42 kB)\n",
            "\u001b[?25l     \u001b[90m━━━━━━━━━━━━━━━━━━━━━━━━━━━━━━━━━━━━━━━━\u001b[0m \u001b[32m0.0/42.6 kB\u001b[0m \u001b[31m?\u001b[0m eta \u001b[36m-:--:--\u001b[0m\r\u001b[2K     \u001b[90m━━━━━━━━━━━━━━━━━━━━━━━━━━━━━━━━━━━━━━━━\u001b[0m \u001b[32m42.6/42.6 kB\u001b[0m \u001b[31m1.8 MB/s\u001b[0m eta \u001b[36m0:00:00\u001b[0m\n",
            "\u001b[?25hRequirement already satisfied: numpy>=1.9.1 in /usr/local/lib/python3.10/dist-packages (from keras-preprocessing) (1.25.2)\n",
            "Requirement already satisfied: six>=1.9.0 in /usr/local/lib/python3.10/dist-packages (from keras-preprocessing) (1.16.0)\n",
            "Installing collected packages: keras-preprocessing\n",
            "Successfully installed keras-preprocessing-1.1.2\n",
            "Epoch 1/10\n",
            "217/217 [==============================] - ETA: 0s - loss: 1.5382 - accuracy: 0.2680 - precision: 0.2739 - recall: 0.0124 - auc: 0.6004"
          ]
        },
        {
          "output_type": "stream",
          "name": "stderr",
          "text": [
            "/usr/local/lib/python3.10/dist-packages/keras/src/engine/training.py:3103: UserWarning: You are saving your model as an HDF5 file via `model.save()`. This file format is considered legacy. We recommend using instead the native Keras format, e.g. `model.save('my_model.keras')`.\n",
            "  saving_api.save_model(\n"
          ]
        },
        {
          "output_type": "stream",
          "name": "stdout",
          "text": [
            "\b\b\b\b\b\b\b\b\b\b\b\b\b\b\b\b\b\b\b\b\b\b\b\b\b\b\b\b\b\b\b\b\b\b\b\b\b\b\b\b\b\b\b\b\b\b\b\b\b\b\b\b\b\b\b\b\b\b\b\b\b\b\b\b\b\b\b\b\b\b\b\b\b\b\b\b\b\b\b\b\b\b\b\b\b\b\b\b\b\b\b\b\b\b\b\b\b\b\b\b\b\b\b\b\b\b\b\b\b\b\b\b\b\b\b\b\b\b\b\b\b\b\b\b\b\b\b\b\b\b\b\b\b\b\b\r217/217 [==============================] - 55s 239ms/step - loss: 1.5382 - accuracy: 0.2680 - precision: 0.2739 - recall: 0.0124 - auc: 0.6004 - val_loss: 1.4883 - val_accuracy: 0.4100 - val_precision: 0.0000e+00 - val_recall: 0.0000e+00 - val_auc: 0.7018\n",
            "Epoch 2/10\n",
            "217/217 [==============================] - 55s 255ms/step - loss: 1.3449 - accuracy: 0.3880 - precision: 0.5782 - recall: 0.0736 - auc: 0.7044 - val_loss: 1.2235 - val_accuracy: 0.5502 - val_precision: 0.6810 - val_recall: 0.3290 - val_auc: 0.8084\n",
            "Epoch 3/10\n",
            "217/217 [==============================] - 49s 225ms/step - loss: 1.1717 - accuracy: 0.4909 - precision: 0.6166 - recall: 0.2309 - auc: 0.7795 - val_loss: 1.1399 - val_accuracy: 0.5636 - val_precision: 0.6707 - val_recall: 0.3580 - val_auc: 0.8304\n",
            "Epoch 4/10\n",
            "217/217 [==============================] - 53s 245ms/step - loss: 1.0975 - accuracy: 0.5260 - precision: 0.6390 - recall: 0.2902 - auc: 0.8080 - val_loss: 1.0999 - val_accuracy: 0.5727 - val_precision: 0.6856 - val_recall: 0.3494 - val_auc: 0.8441\n",
            "Epoch 5/10\n",
            "217/217 [==============================] - 47s 217ms/step - loss: 1.0502 - accuracy: 0.5522 - precision: 0.6512 - recall: 0.3263 - auc: 0.8254 - val_loss: 1.0777 - val_accuracy: 0.5740 - val_precision: 0.6829 - val_recall: 0.3571 - val_auc: 0.8497\n",
            "Epoch 6/10\n",
            "217/217 [==============================] - 49s 224ms/step - loss: 1.0049 - accuracy: 0.5661 - precision: 0.6629 - recall: 0.3535 - auc: 0.8387 - val_loss: 1.0561 - val_accuracy: 0.5740 - val_precision: 0.7022 - val_recall: 0.3450 - val_auc: 0.8564\n",
            "Epoch 7/10\n",
            "217/217 [==============================] - 50s 229ms/step - loss: 0.9771 - accuracy: 0.5789 - precision: 0.6744 - recall: 0.3739 - auc: 0.8475 - val_loss: 1.0588 - val_accuracy: 0.5766 - val_precision: 0.6774 - val_recall: 0.3745 - val_auc: 0.8562\n",
            "Epoch 8/10\n",
            "217/217 [==============================] - 49s 225ms/step - loss: 0.9443 - accuracy: 0.5890 - precision: 0.6682 - recall: 0.4007 - auc: 0.8573 - val_loss: 1.0516 - val_accuracy: 0.5727 - val_precision: 0.6791 - val_recall: 0.3848 - val_auc: 0.8573\n",
            "Epoch 9/10\n",
            "217/217 [==============================] - 49s 224ms/step - loss: 0.9070 - accuracy: 0.6020 - precision: 0.6848 - recall: 0.4120 - auc: 0.8670 - val_loss: 1.0553 - val_accuracy: 0.5758 - val_precision: 0.6233 - val_recall: 0.4835 - val_auc: 0.8590\n",
            "Epoch 10/10\n",
            "217/217 [==============================] - 47s 218ms/step - loss: 0.8901 - accuracy: 0.6013 - precision: 0.6832 - recall: 0.4267 - auc: 0.8716 - val_loss: 1.0677 - val_accuracy: 0.5719 - val_precision: 0.6306 - val_recall: 0.4775 - val_auc: 0.8566\n"
          ]
        },
        {
          "output_type": "display_data",
          "data": {
            "text/plain": [
              "<Figure size 640x480 with 1 Axes>"
            ],
            "image/png": "[encoded data removed]"
          },
          "metadata": {}
        },
        {
          "output_type": "display_data",
          "data": {
            "text/plain": [
              "<Figure size 640x480 with 1 Axes>"
            ],
            "image/png": "[encoded data removed]"
          },
          "metadata": {}
        },
        {
          "output_type": "stream",
          "name": "stdout",
          "text": [
            "73/73 [==============================] - 7s 92ms/step\n",
            "              precision    recall  f1-score   support\n",
            "\n",
            "           1       0.73      0.81      0.77       526\n",
            "           2       0.00      0.00      0.00       230\n",
            "           3       0.00      0.00      0.00       296\n",
            "           4       0.63      0.84      0.72       485\n",
            "           5       0.45      0.63      0.53       773\n",
            "\n",
            "    accuracy                           0.57      2310\n",
            "   macro avg       0.36      0.46      0.40      2310\n",
            "weighted avg       0.45      0.57      0.50      2310\n",
            "\n"
          ]
        },
        {
          "output_type": "stream",
          "name": "stderr",
          "text": [
            "/usr/local/lib/python3.10/dist-packages/sklearn/metrics/_classification.py:1344: UndefinedMetricWarning: Precision and F-score are ill-defined and being set to 0.0 in labels with no predicted samples. Use `zero_division` parameter to control this behavior.\n",
            "  _warn_prf(average, modifier, msg_start, len(result))\n",
            "/usr/local/lib/python3.10/dist-packages/sklearn/metrics/_classification.py:1344: UndefinedMetricWarning: Precision and F-score are ill-defined and being set to 0.0 in labels with no predicted samples. Use `zero_division` parameter to control this behavior.\n",
            "  _warn_prf(average, modifier, msg_start, len(result))\n",
            "/usr/local/lib/python3.10/dist-packages/sklearn/metrics/_classification.py:1344: UndefinedMetricWarning: Precision and F-score are ill-defined and being set to 0.0 in labels with no predicted samples. Use `zero_division` parameter to control this behavior.\n",
            "  _warn_prf(average, modifier, msg_start, len(result))\n"
          ]
        }
      ]
    },
    {
      "cell_type": "code",
      "source": [
        "from keras.models import Sequential\n",
        "from keras.layers import Embedding, LSTM, Dense, Dropout, Bidirectional\n",
        "from keras.layers import Conv1D, GlobalMaxPooling1D\n",
        "from keras.optimizers import Adam\n",
        "from keras.callbacks import ModelCheckpoint\n",
        "from keras.preprocessing.text import Tokenizer\n",
        "from keras.preprocessing.sequence import pad_sequences\n",
        "from sklearn.utils import class_weight\n",
        "from keras.utils import to_categorical\n",
        "from sklearn.metrics import classification_report\n",
        "import matplotlib.pyplot as plt\n",
        "import numpy as np\n",
        "import itertools\n",
        "\n",
        "# Define the hyperparameters\n",
        "optimizers = ['SGD', 'RMSprop', 'Adagrad', 'Adadelta', 'Adam', 'Adamax', 'Nadam']\n",
        "dropouts = [0.0, 0.1, 0.2, 0.3, 0.4, 0.5]\n",
        "neurons = [16, 32, 64, 128, 256]\n",
        "\n",
        "# Create a list of all possible combinations of hyperparameters\n",
        "param_combinations = list(itertools.product(optimizers, dropouts, neurons))\n",
        "\n",
        "best_accuracy = 0\n",
        "best_params = None\n",
        "\n",
        "# Iterate over all possible combinations\n",
        "for params in param_combinations:\n",
        "    optimizer, dropout, neuron = params\n",
        "\n",
        "    # Define the model\n",
        "    model = Sequential()\n",
        "    model.add(Embedding(vocab_size, 300, weights=[embedding_matrix], input_length=max_length, trainable=False))\n",
        "    model.add(Conv1D(128, 5, activation='sigmoid'))\n",
        "    model.add(GlobalMaxPooling1D())\n",
        "    model.add(Dense(neuron, activation='sigmoid'))\n",
        "    model.add(Dropout(dropout))\n",
        "    model.add(Dense(neuron, activation='sigmoid'))\n",
        "    model.add(Dropout(dropout))\n",
        "    model.add(Dense(num_classes, activation='softmax'))\n",
        "\n",
        "    # Compile the model\n",
        "    model.compile(optimizer=optimizer,\n",
        "                  loss='categorical_crossentropy',\n",
        "                  metrics=['accuracy'])\n",
        "\n",
        "    # Train the model\n",
        "    history = model.fit(train_sequences, train_labels, validation_data=(val_sequences, val_labels), epochs=10)\n",
        "\n",
        "    # Get the accuracy of the model on the validation data\n",
        "    accuracy = history.history['val_accuracy'][-1]\n",
        "\n",
        "    # If this model has a better accuracy than the current best, update the best accuracy and best parameters\n",
        "    if accuracy > best_accuracy:\n",
        "        best_accuracy = accuracy\n",
        "        best_params = params\n",
        "\n",
        "# Print the best parameters and the accuracy achieved with them\n",
        "print(f\"Best parameters: Optimizer - {best_params[0]}, Dropout - {best_params[1]}, Neurons - {best_params[2]}\")\n",
        "print(f\"Best validation accuracy: {best_accuracy}\")\n"
      ],
      "metadata": {
        "colab": {
          "base_uri": "https://localhost:8080/"
        },
        "id": "wnVFvKJGG8ze",
        "outputId": "c6695a20-c83e-4dd5-f48e-b55f2e83df1d"
      },
      "execution_count": null,
      "outputs": [
        {
          "output_type": "stream",
          "name": "stdout",
          "text": [
            "Epoch 1/10\n",
            "217/217 [==============================] - 54s 240ms/step - loss: 1.6050 - accuracy: 0.2745 - val_loss: 1.5299 - val_accuracy: 0.3346\n",
            "Epoch 2/10\n",
            "217/217 [==============================] - 48s 221ms/step - loss: 1.5375 - accuracy: 0.3289 - val_loss: 1.5254 - val_accuracy: 0.3346\n",
            "Epoch 3/10\n",
            "217/217 [==============================] - 50s 229ms/step - loss: 1.5367 - accuracy: 0.3289 - val_loss: 1.5247 - val_accuracy: 0.3346\n",
            "Epoch 4/10\n",
            "217/217 [==============================] - 46s 214ms/step - loss: 1.5368 - accuracy: 0.3289 - val_loss: 1.5248 - val_accuracy: 0.3346\n",
            "Epoch 5/10\n",
            "217/217 [==============================] - 46s 213ms/step - loss: 1.5369 - accuracy: 0.3289 - val_loss: 1.5248 - val_accuracy: 0.3346\n",
            "Epoch 6/10\n",
            "217/217 [==============================] - 51s 234ms/step - loss: 1.5368 - accuracy: 0.3289 - val_loss: 1.5245 - val_accuracy: 0.3346\n",
            "Epoch 7/10\n",
            "217/217 [==============================] - 47s 217ms/step - loss: 1.5366 - accuracy: 0.3289 - val_loss: 1.5248 - val_accuracy: 0.3346\n",
            "Epoch 8/10\n",
            "217/217 [==============================] - 45s 208ms/step - loss: 1.5368 - accuracy: 0.3289 - val_loss: 1.5249 - val_accuracy: 0.3346\n",
            "Epoch 9/10\n",
            "217/217 [==============================] - 46s 214ms/step - loss: 1.5369 - accuracy: 0.3289 - val_loss: 1.5246 - val_accuracy: 0.3346\n",
            "Epoch 10/10\n",
            "217/217 [==============================] - 49s 227ms/step - loss: 1.5368 - accuracy: 0.3289 - val_loss: 1.5245 - val_accuracy: 0.3346\n",
            "Epoch 1/10\n",
            "217/217 [==============================] - 48s 217ms/step - loss: 1.5774 - accuracy: 0.2996 - val_loss: 1.5259 - val_accuracy: 0.3346\n",
            "Epoch 2/10\n",
            "217/217 [==============================] - 45s 208ms/step - loss: 1.5369 - accuracy: 0.3289 - val_loss: 1.5249 - val_accuracy: 0.3346\n",
            "Epoch 3/10\n",
            "217/217 [==============================] - 47s 215ms/step - loss: 1.5369 - accuracy: 0.3289 - val_loss: 1.5258 - val_accuracy: 0.3346\n",
            "Epoch 4/10\n",
            "217/217 [==============================] - 45s 210ms/step - loss: 1.5372 - accuracy: 0.3289 - val_loss: 1.5249 - val_accuracy: 0.3346\n",
            "Epoch 5/10\n",
            "217/217 [==============================] - 46s 212ms/step - loss: 1.5372 - accuracy: 0.3289 - val_loss: 1.5247 - val_accuracy: 0.3346\n",
            "Epoch 6/10\n",
            "217/217 [==============================] - 47s 219ms/step - loss: 1.5371 - accuracy: 0.3289 - val_loss: 1.5242 - val_accuracy: 0.3346\n",
            "Epoch 7/10\n",
            "217/217 [==============================] - 46s 212ms/step - loss: 1.5367 - accuracy: 0.3289 - val_loss: 1.5247 - val_accuracy: 0.3346\n",
            "Epoch 8/10\n",
            "217/217 [==============================] - 50s 228ms/step - loss: 1.5372 - accuracy: 0.3289 - val_loss: 1.5245 - val_accuracy: 0.3346\n",
            "Epoch 9/10\n",
            "217/217 [==============================] - 45s 209ms/step - loss: 1.5370 - accuracy: 0.3289 - val_loss: 1.5245 - val_accuracy: 0.3346\n",
            "Epoch 10/10\n",
            "217/217 [==============================] - 47s 217ms/step - loss: 1.5368 - accuracy: 0.3289 - val_loss: 1.5252 - val_accuracy: 0.3346\n",
            "Epoch 1/10\n",
            "217/217 [==============================] - 51s 229ms/step - loss: 1.5688 - accuracy: 0.3108 - val_loss: 1.5257 - val_accuracy: 0.3346\n",
            "Epoch 2/10\n",
            "217/217 [==============================] - 47s 217ms/step - loss: 1.5381 - accuracy: 0.3289 - val_loss: 1.5266 - val_accuracy: 0.3346\n",
            "Epoch 3/10\n",
            "217/217 [==============================] - 48s 223ms/step - loss: 1.5382 - accuracy: 0.3289 - val_loss: 1.5246 - val_accuracy: 0.3346\n",
            "Epoch 4/10\n",
            "217/217 [==============================] - 46s 213ms/step - loss: 1.5376 - accuracy: 0.3289 - val_loss: 1.5246 - val_accuracy: 0.3346\n",
            "Epoch 5/10\n",
            "217/217 [==============================] - 48s 222ms/step - loss: 1.5379 - accuracy: 0.3289 - val_loss: 1.5247 - val_accuracy: 0.3346\n",
            "Epoch 6/10\n",
            "217/217 [==============================] - 54s 248ms/step - loss: 1.5377 - accuracy: 0.3289 - val_loss: 1.5253 - val_accuracy: 0.3346\n",
            "Epoch 7/10\n",
            "217/217 [==============================] - 46s 212ms/step - loss: 1.5379 - accuracy: 0.3289 - val_loss: 1.5246 - val_accuracy: 0.3346\n",
            "Epoch 8/10\n",
            "217/217 [==============================] - 52s 239ms/step - loss: 1.5374 - accuracy: 0.3289 - val_loss: 1.5258 - val_accuracy: 0.3346\n",
            "Epoch 9/10\n",
            "217/217 [==============================] - 47s 219ms/step - loss: 1.5376 - accuracy: 0.3289 - val_loss: 1.5268 - val_accuracy: 0.3346\n",
            "Epoch 10/10\n",
            "217/217 [==============================] - 54s 248ms/step - loss: 1.5379 - accuracy: 0.3289 - val_loss: 1.5256 - val_accuracy: 0.3346\n",
            "Epoch 1/10\n",
            "217/217 [==============================] - 49s 221ms/step - loss: 1.5457 - accuracy: 0.3238 - val_loss: 1.5285 - val_accuracy: 0.3346\n",
            "Epoch 2/10\n",
            "217/217 [==============================] - 48s 219ms/step - loss: 1.5391 - accuracy: 0.3289 - val_loss: 1.5260 - val_accuracy: 0.3346\n",
            "Epoch 3/10\n",
            "217/217 [==============================] - 47s 216ms/step - loss: 1.5392 - accuracy: 0.3289 - val_loss: 1.5264 - val_accuracy: 0.3346\n",
            "Epoch 4/10\n",
            "217/217 [==============================] - 49s 225ms/step - loss: 1.5392 - accuracy: 0.3289 - val_loss: 1.5267 - val_accuracy: 0.3346\n",
            "Epoch 5/10\n",
            "217/217 [==============================] - 54s 251ms/step - loss: 1.5391 - accuracy: 0.3289 - val_loss: 1.5263 - val_accuracy: 0.3346\n",
            "Epoch 6/10\n",
            "217/217 [==============================] - 49s 227ms/step - loss: 1.5383 - accuracy: 0.3289 - val_loss: 1.5298 - val_accuracy: 0.3346\n",
            "Epoch 7/10\n",
            "217/217 [==============================] - 52s 241ms/step - loss: 1.5391 - accuracy: 0.3289 - val_loss: 1.5280 - val_accuracy: 0.3346\n",
            "Epoch 8/10\n",
            "217/217 [==============================] - ETA: 0s - loss: 1.5383 - accuracy: 0.3289"
          ]
        }
      ]
    },
    {
      "cell_type": "code",
      "execution_count": null,
      "metadata": {
        "id": "zlssucqqJwYY"
      },
      "outputs": [],
      "source": [
        "#version 1\n",
        "from keras.models import Sequential\n",
        "from keras.layers import Embedding, LSTM, Dense\n",
        "from keras.optimizers import Adam\n",
        "from keras.callbacks import ModelCheckpoint\n",
        "from keras.preprocessing.text import Tokenizer\n",
        "from keras import metrics\n",
        "from keras.preprocessing.sequence import pad_sequences\n",
        "from keras.utils import to_categorical\n",
        "from sklearn.metrics import classification_report\n",
        "import matplotlib.pyplot as plt\n",
        "import numpy as np\n",
        "\n",
        "# Convert labels to one-hot vectors\n",
        "num_classes = 5  # Set this to the actual number of classes\n",
        "train_labels = to_categorical(train_data['condition_label'] - 1, num_classes=num_classes)\n",
        "val_labels = to_categorical(val_data['condition_label'] - 1, num_classes=num_classes)\n",
        "\n",
        "\n",
        "# Tokenize the text\n",
        "tokenizer = Tokenizer()\n",
        "tokenizer.fit_on_texts(train_data['processed_text'])\n",
        "vocab_size = len(tokenizer.word_index) + 1\n",
        "\n",
        "# Convert text to sequences\n",
        "train_sequences = tokenizer.texts_to_sequences(train_data['processed_text'])\n",
        "val_sequences = tokenizer.texts_to_sequences(val_data['processed_text'])\n",
        "\n",
        "# Pad sequences\n",
        "max_length = max([len(s) for s in train_data['processed_text']])\n",
        "train_sequences = pad_sequences(train_sequences, maxlen=max_length, padding='post')\n",
        "val_sequences = pad_sequences(val_sequences, maxlen=max_length, padding='post')\n",
        "\n",
        "\n",
        "# Define the model\n",
        "model = Sequential()\n",
        "model.add(Embedding(vocab_size, 50, input_length=max_length))\n",
        "model.add(LSTM(100))\n",
        "model.add(Dense(5, activation='softmax'))  # Assuming 5 classes\n",
        "\n",
        "# Compile the model\n",
        "model.compile(optimizer=Adam(),\n",
        "              loss='categorical_crossentropy',\n",
        "              metrics=['accuracy',\n",
        "                       metrics.Precision(name='precision'),\n",
        "                       metrics.Recall(name='recall'),\n",
        "                       metrics.AUC(name='auc')])\n",
        "\n",
        "# Train the model\n",
        "checkpoint = ModelCheckpoint('best_model.h5', save_best_only=True, monitor='val_loss', mode='min')\n",
        "history = model.fit(train_sequences, train_labels, validation_data=(val_sequences, val_labels), epochs=10, callbacks=[checkpoint])\n",
        "\n",
        "# Plot training & validation accuracy values\n",
        "plt.plot(history.history['accuracy'])\n",
        "plt.plot(history.history['val_accuracy'])\n",
        "plt.title('Model accuracy')\n",
        "plt.ylabel('Accuracy')\n",
        "plt.xlabel('Epoch')\n",
        "plt.legend(['Train', 'Validation'], loc='upper left')\n",
        "plt.show()\n",
        "\n",
        "# Plot training & validation loss values\n",
        "plt.plot(history.history['loss'])\n",
        "plt.plot(history.history['val_loss'])\n",
        "plt.title('Model loss')\n",
        "plt.ylabel('Loss')\n",
        "plt.xlabel('Epoch')\n",
        "plt.legend(['Train', 'Validation'], loc='upper left')\n",
        "plt.show()\n",
        "\n",
        "# Get predictions\n",
        "preds = model.predict(val_sequences)\n",
        "preds = np.argmax(preds, axis=1)  # Convert probabilities to class labels\n",
        "\n",
        "# Calculate metrics\n",
        "report = classification_report(np.argmax(val_labels, axis=1), preds)\n",
        "print(report)\n"
      ]
    },
    {
      "cell_type": "code",
      "source": [],
      "metadata": {
        "id": "CnIz252SHBHy"
      },
      "execution_count": null,
      "outputs": []
    }
  ],
  "metadata": {
    "colab": {
      "provenance": []
    },
    "kernelspec": {
      "display_name": "Python 3",
      "name": "python3"
    },
    "language_info": {
      "codemirror_mode": {
        "name": "ipython",
        "version": 3
      },
      "file_extension": ".py",
      "mimetype": "text/x-python",
      "name": "python",
      "nbconvert_exporter": "python",
      "pygments_lexer": "ipython3",
      "version": "3.12.1"
    }
  },
  "nbformat": 4,
  "nbformat_minor": 0
}