{
  "nbformat": 4,
  "nbformat_minor": 0,
  "metadata": {
    "colab": {
      "provenance": []
    },
    "kernelspec": {
      "name": "python3",
      "display_name": "Python 3"
    },
    "language_info": {
      "name": "python"
    }
  },
  "cells": [
    {
      "cell_type": "markdown",
      "source": [
        "# ***Logistic Regression:***"
      ],
      "metadata": {
        "id": "-M7-sjK4TO3b"
      }
    },
    {
      "cell_type": "code",
      "source": [
        "import pandas as pd\n",
        "import re\n",
        "import nltk\n",
        "from nltk.corpus import stopwords\n",
        "from nltk.stem import WordNetLemmatizer\n",
        "\n",
        "nltk.download('stopwords')\n",
        "nltk.download('wordnet')\n",
        "\n",
        "def preprocess_text(text):\n",
        "    # Convert to lowercase\n",
        "    text = text.lower()\n",
        "    # Remove punctuation\n",
        "    text = re.sub(r'[^\\w\\s]', '', text)\n",
        "    # Remove stopwords and apply lemmatization\n",
        "    stop_words = set(stopwords.words('english'))\n",
        "    lemmatizer = WordNetLemmatizer()\n",
        "    text = ' '.join([lemmatizer.lemmatize(word) for word in text.split() if word not in stop_words])\n",
        "    return text\n",
        "\n",
        "def load_and_preprocess_data(filepath):\n",
        "    data = pd.read_csv(filepath)\n",
        "    data['processed_text'] = data['medical_abstract'].apply(preprocess_text)\n",
        "    return data\n",
        "\n",
        "data = load_and_preprocess_data('data.csv')\n"
      ],
      "metadata": {
        "id": "qfJU9UpfZRUq"
      },
      "execution_count": null,
      "outputs": []
    },
    {
      "cell_type": "code",
      "source": [
        "from sklearn.model_selection import train_test_split\n",
        "\n",
        "train_val, test_data = train_test_split(data, test_size=0.2, random_state=42)\n",
        "train_data, val_data = train_test_split(train_val, test_size=0.25, random_state=42)"
      ],
      "metadata": {
        "id": "MtmxfdifZO0Q"
      },
      "execution_count": null,
      "outputs": []
    },
    {
      "cell_type": "code",
      "source": [
        "from sklearn.feature_extraction.text import TfidfVectorizer\n",
        "\n",
        "vectorizer = TfidfVectorizer(max_features=5000)\n",
        "X_train_tfidf = vectorizer.fit_transform(train_data['processed_text']).toarray()\n",
        "X_val_tfidf = vectorizer.transform(val_data['processed_text']).toarray()\n",
        "X_test_tfidf = vectorizer.transform(test_data['processed_text']).toarray()\n",
        "\n",
        "y_train = train_data['condition_label']\n",
        "y_val = val_data['condition_label']\n",
        "y_test = test_data['condition_label']"
      ],
      "metadata": {
        "id": "ZAFsFyHwZM4f"
      },
      "execution_count": null,
      "outputs": []
    },
    {
      "cell_type": "code",
      "source": [
        "from sklearn.feature_extraction.text import TfidfVectorizer\n",
        "from sklearn.linear_model import LogisticRegression\n",
        "from sklearn.metrics import classification_report\n",
        "\n",
        "# Vectorize the text data using TF-IDF\n",
        "vectorizer = TfidfVectorizer()\n",
        "X_train = vectorizer.fit_transform(train_data['processed_text'])\n",
        "y_train = train_data['condition_label']\n",
        "\n",
        "# Initialize and train the logistic regression model\n",
        "log_reg_model = LogisticRegression(max_iter=1000)\n",
        "log_reg_model.fit(X_train, y_train)\n",
        "\n",
        "# Evaluate the model on the validation set\n",
        "X_val = vectorizer.transform(val_data['processed_text'])\n",
        "y_val = val_data['condition_label']\n",
        "y_val_pred = log_reg_model.predict(X_val)\n",
        "\n",
        "# Print classification report to evaluate the model performance\n",
        "print(\"Classification Report on Validation Set:\")\n",
        "print(classification_report(y_val, y_val_pred))\n",
        "\n",
        "# Optionally, you can also evaluate the model on the test set\n",
        "X_test = vectorizer.transform(test_data['processed_text'])\n",
        "y_test = test_data['condition_label']\n",
        "y_test_pred = log_reg_model.predict(X_test)\n",
        "\n",
        "# Print classification report on the test set\n",
        "print(\"Classification Report on Test Set:\")\n",
        "print(classification_report(y_test, y_test_pred))\n"
      ],
      "metadata": {
        "id": "zlssucqqJwYY",
        "colab": {
          "base_uri": "https://localhost:8080/"
        },
        "outputId": "e3f5182e-9c0e-4ee6-a780-41f1f909fc88"
      },
      "execution_count": null,
      "outputs": [
        {
          "output_type": "stream",
          "name": "stdout",
          "text": [
            "Classification Report on Validation Set:\n",
            "              precision    recall  f1-score   support\n",
            "\n",
            "           1       0.74      0.74      0.74       526\n",
            "           2       0.51      0.29      0.37       230\n",
            "           3       0.52      0.32      0.40       296\n",
            "           4       0.67      0.62      0.65       485\n",
            "           5       0.45      0.59      0.51       773\n",
            "\n",
            "    accuracy                           0.57      2310\n",
            "   macro avg       0.58      0.51      0.53      2310\n",
            "weighted avg       0.58      0.57      0.56      2310\n",
            "\n",
            "Classification Report on Test Set:\n",
            "              precision    recall  f1-score   support\n",
            "\n",
            "           1       0.69      0.73      0.71       479\n",
            "           2       0.54      0.36      0.43       224\n",
            "           3       0.49      0.36      0.42       295\n",
            "           4       0.68      0.64      0.66       520\n",
            "           5       0.48      0.58      0.52       792\n",
            "\n",
            "    accuracy                           0.57      2310\n",
            "   macro avg       0.58      0.53      0.55      2310\n",
            "weighted avg       0.58      0.57      0.57      2310\n",
            "\n"
          ]
        }
      ]
    },
    {
      "cell_type": "markdown",
      "source": [
        "### Hyperparameter Tuning:"
      ],
      "metadata": {
        "id": "Gv518tWPX-J8"
      }
    },
    {
      "cell_type": "code",
      "source": [
        "from sklearn.model_selection import GridSearchCV\n",
        "\n",
        "# Define hyperparameter grid\n",
        "param_grid = {\n",
        "    'C': [0.001, 0.01, 0.1, 1, 10, 100],  # Regularization strength\n",
        "    'penalty': ['l1', 'l2'],               # Penalty type\n",
        "    'solver': ['liblinear', 'saga']        # Solver for optimization\n",
        "}\n",
        "\n",
        "# Initialize logistic regression model\n",
        "log_reg_model = LogisticRegression(max_iter=1000)\n",
        "\n",
        "# Initialize GridSearchCV with logistic regression model and hyperparameter grid\n",
        "grid_search = GridSearchCV(estimator=log_reg_model, param_grid=param_grid, cv=5, scoring='accuracy')\n",
        "\n",
        "# Perform grid search\n",
        "grid_search.fit(X_train, y_train)\n",
        "\n",
        "# Get the best hyperparameters\n",
        "best_params = grid_search.best_params_\n",
        "print(\"Best Hyperparameters:\", best_params)\n",
        "\n",
        "# Train final model with best hyperparameters on entire training set\n",
        "best_log_reg_model = LogisticRegression(**best_params, max_iter=1000)\n",
        "best_log_reg_model.fit(X_train, y_train)\n",
        "\n",
        "# Evaluate the final model on the validation set\n",
        "y_val_pred = best_log_reg_model.predict(X_val)\n",
        "print(\"Classification Report on Validation Set:\")\n",
        "print(classification_report(y_val, y_val_pred))\n"
      ],
      "metadata": {
        "id": "7jBR8rzLX9vT"
      },
      "execution_count": null,
      "outputs": []
    }
  ]
}
